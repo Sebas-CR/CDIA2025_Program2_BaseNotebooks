{
 "cells": [
  {
   "cell_type": "markdown",
   "id": "7224bbd8",
   "metadata": {},
   "source": [
    "# Notebook: Instalación y Operaciones Básicas en NumPy"
   ]
  },
  {
   "cell_type": "markdown",
   "id": "34dee115",
   "metadata": {},
   "source": [
    "## Sección 1: Instalación y verificación"
   ]
  },
  {
   "cell_type": "code",
   "execution_count": 43,
   "id": "3c7c2f7b",
   "metadata": {},
   "outputs": [],
   "source": [
    "# (Este paso se realiza en consola, no en el notebook)\n",
    "\n",
    "# pip install numpy\n",
    "# conda install numpy"
   ]
  },
  {
   "cell_type": "markdown",
   "id": "758d3a6c",
   "metadata": {},
   "source": [
    "Verificar instalación desde Python:"
   ]
  },
  {
   "cell_type": "code",
   "execution_count": 44,
   "id": "089d23f8",
   "metadata": {},
   "outputs": [
    {
     "name": "stdout",
     "output_type": "stream",
     "text": [
      "NumPy version: 1.26.4\n"
     ]
    }
   ],
   "source": [
    "import numpy as np\n",
    "print(\"NumPy version:\", np.__version__)"
   ]
  },
  {
   "cell_type": "markdown",
   "id": "bf9dfd9d",
   "metadata": {},
   "source": [
    "\n",
    "## 🧩 Sección 2: Creación de Arrays\n",
    "\n",
    "### 🔹 1. Array desde una lista"
   ]
  },
  {
   "cell_type": "code",
   "execution_count": 45,
   "id": "aadf34b1",
   "metadata": {},
   "outputs": [
    {
     "name": "stdout",
     "output_type": "stream",
     "text": [
      "Array desde lista: [1 2 3 4 5]\n"
     ]
    }
   ],
   "source": [
    "array1 = np.array([1, 2, 3, 4, 5])\n",
    "print(\"Array desde lista:\", array1)"
   ]
  },
  {
   "cell_type": "markdown",
   "id": "af5b4aae",
   "metadata": {},
   "source": [
    "### 🔹 3. Array de unos"
   ]
  },
  {
   "cell_type": "code",
   "execution_count": 46,
   "id": "bd211b1f",
   "metadata": {},
   "outputs": [
    {
     "name": "stdout",
     "output_type": "stream",
     "text": [
      "Array de unos: [1. 1. 1. 1. 1.]\n"
     ]
    }
   ],
   "source": [
    "ones_array = np.ones(5)\n",
    "print(\"Array de unos:\", ones_array)"
   ]
  },
  {
   "cell_type": "markdown",
   "id": "90040b97",
   "metadata": {},
   "source": [
    "### 🔹 4. Secuencia de valores"
   ]
  },
  {
   "cell_type": "code",
   "execution_count": 47,
   "id": "164204b2",
   "metadata": {},
   "outputs": [
    {
     "name": "stdout",
     "output_type": "stream",
     "text": [
      "Array de secuencia: [0 2 4 6 8]\n"
     ]
    }
   ],
   "source": [
    "sequence_array = np.arange(0, 10, 2)\n",
    "print(\"Array de secuencia:\", sequence_array)"
   ]
  },
  {
   "cell_type": "markdown",
   "id": "1947de09",
   "metadata": {},
   "source": [
    "### 🔹 5. Array bidimensional"
   ]
  },
  {
   "cell_type": "code",
   "execution_count": 48,
   "id": "775d3e7a",
   "metadata": {},
   "outputs": [
    {
     "name": "stdout",
     "output_type": "stream",
     "text": [
      "Matriz 2D: [[1 2 3]\n",
      " [4 5 6]]\n"
     ]
    }
   ],
   "source": [
    "matrix_2d = np.array([[1, 2, 3], [4, 5, 6]])\n",
    "print(\"Matriz 2D:\", matrix_2d)"
   ]
  },
  {
   "cell_type": "code",
   "execution_count": 49,
   "id": "e32b8bd4",
   "metadata": {},
   "outputs": [
    {
     "name": "stdout",
     "output_type": "stream",
     "text": [
      "Dimensiones de la matriz 2D: 2\n",
      "Forma de la matriz 2D: (2, 3)\n",
      "Tamaño de la matriz 2D: 6\n"
     ]
    }
   ],
   "source": [
    "print (\"Dimensiones de la matriz 2D:\", matrix_2d.ndim)\n",
    "print (\"Forma de la matriz 2D:\", matrix_2d.shape)\n",
    "print (\"Tamaño de la matriz 2D:\", matrix_2d.size)"
   ]
  },
  {
   "cell_type": "code",
   "execution_count": 50,
   "id": "2ccca236",
   "metadata": {},
   "outputs": [
    {
     "ename": "TypeError",
     "evalue": "'numpy.ndarray' object is not callable",
     "output_type": "error",
     "traceback": [
      "\u001b[1;31m---------------------------------------------------------------------------\u001b[0m",
      "\u001b[1;31mTypeError\u001b[0m                                 Traceback (most recent call last)",
      "Cell \u001b[1;32mIn[50], line 1\u001b[0m\n\u001b[1;32m----> 1\u001b[0m np\u001b[38;5;241m.\u001b[39meye\u001b[38;5;241m=\u001b[39mnp\u001b[38;5;241m.\u001b[39meye(\u001b[38;5;241m3\u001b[39m)\n\u001b[0;32m      2\u001b[0m \u001b[38;5;28mprint\u001b[39m(\u001b[38;5;124m\"\u001b[39m\u001b[38;5;124mMatriz identidad 3x3:\u001b[39m\u001b[38;5;124m\"\u001b[39m, np\u001b[38;5;241m.\u001b[39meye)\n\u001b[0;32m      3\u001b[0m \u001b[38;5;28mprint\u001b[39m(\u001b[38;5;124m\"\u001b[39m\u001b[38;5;124mMatriz identidad 3x3 con np.eye:\u001b[39m\u001b[38;5;124m\"\u001b[39m, np\u001b[38;5;241m.\u001b[39meye(\u001b[38;5;241m3\u001b[39m))\n",
      "\u001b[1;31mTypeError\u001b[0m: 'numpy.ndarray' object is not callable"
     ]
    }
   ],
   "source": [
    "np.eye=np.eye(3)\n",
    "print(\"Matriz identidad 3x3:\", np.eye)\n",
    "print(\"Matriz identidad 3x3 con np.eye:\", np.eye(3))"
   ]
  },
  {
   "cell_type": "markdown",
   "id": "b79b2df1",
   "metadata": {},
   "source": [
    "## 🧩 Sección 3: Operaciones Básicas con Arrays\n",
    "\n",
    "### 🔹 1. Suma y multiplicación"
   ]
  },
  {
   "cell_type": "code",
   "execution_count": null,
   "id": "b54ead94",
   "metadata": {},
   "outputs": [],
   "source": [
    "a=array1\n",
    "print (a)"
   ]
  },
  {
   "cell_type": "code",
   "execution_count": null,
   "id": "6063dc44",
   "metadata": {},
   "outputs": [
    {
     "name": "stdout",
     "output_type": "stream",
     "text": [
      "Suma de arrays: [ 6  8 10 12 14]\n",
      "Producto elemento a elemento: [ 5 12 21 32 45]\n"
     ]
    }
   ],
   "source": [
    "b = np.array([5, 6, 7, 8, 9])\n",
    "suma = array1 + b\n",
    "producto = array1 * b\n",
    "print(\"Suma de arrays:\", suma)\n",
    "print(\"Producto elemento a elemento:\", producto)"
   ]
  },
  {
   "cell_type": "code",
   "execution_count": null,
   "id": "22bd773f",
   "metadata": {},
   "outputs": [
    {
     "name": "stdout",
     "output_type": "stream",
     "text": [
      "Suma de todos los elementos del producto: 115\n"
     ]
    }
   ],
   "source": [
    "producto.sum\n",
    "print (\"Suma de todos los elementos del producto:\", producto.sum())"
   ]
  },
  {
   "cell_type": "markdown",
   "id": "531d1ad9",
   "metadata": {},
   "source": [
    "\n",
    "### 🔹 2. Funciones matemáticas"
   ]
  },
  {
   "cell_type": "code",
   "execution_count": null,
   "id": "bdb4af11",
   "metadata": {},
   "outputs": [
    {
     "name": "stdout",
     "output_type": "stream",
     "text": [
      "Raíz cuadrada: [1.         1.41421356 1.73205081 2.         2.23606798]\n",
      "Seno: [ 0.84147098  0.90929743  0.14112001 -0.7568025  -0.95892427]\n",
      "Exponencial: [  2.71828183   7.3890561   20.08553692  54.59815003 148.4131591 ]\n"
     ]
    }
   ],
   "source": [
    "raiz = np.sqrt(array1)\n",
    "seno = np.sin(array1)\n",
    "exponencial = np.exp(array1)\n",
    "print(\"Raíz cuadrada:\", raiz)\n",
    "print(\"Seno:\", seno)\n",
    "print(\"Exponencial:\", exponencial)"
   ]
  },
  {
   "cell_type": "markdown",
   "id": "0853e548",
   "metadata": {},
   "source": [
    "\n",
    "### 🔹 3. Estadísticas básicas"
   ]
  },
  {
   "cell_type": "code",
   "execution_count": null,
   "id": "bd80302c",
   "metadata": {},
   "outputs": [
    {
     "name": "stdout",
     "output_type": "stream",
     "text": [
      "Media: 3.0\n",
      "Máximo: 5\n",
      "Mínimo: 1\n"
     ]
    }
   ],
   "source": [
    "print(\"Media:\", np.mean(array1))\n",
    "print(\"Máximo:\", np.max(array1))\n",
    "print(\"Mínimo:\", np.min(array1))"
   ]
  },
  {
   "cell_type": "markdown",
   "id": "c27d0310",
   "metadata": {},
   "source": [
    "## 🧩 Sección 4: Manipulación de Arrays\n",
    "\n",
    "### 🔹 1. Cambio de forma (reshape)\n"
   ]
  },
  {
   "cell_type": "code",
   "execution_count": null,
   "id": "78c61e22",
   "metadata": {},
   "outputs": [],
   "source": [
    "reshaped_array = np.arange(6).reshape(3, 2)\n",
    "print(\"Array reestructurado:\", reshaped_array)"
   ]
  },
  {
   "cell_type": "markdown",
   "id": "eedeca03",
   "metadata": {},
   "source": [
    "### 🔹 2. Transposición"
   ]
  },
  {
   "cell_type": "code",
   "execution_count": null,
   "id": "bd488c55",
   "metadata": {},
   "outputs": [],
   "source": [
    "print(\"Transpuesto:\", reshaped_array.T)"
   ]
  },
  {
   "cell_type": "markdown",
   "id": "950cf654",
   "metadata": {},
   "source": [
    "### 🔹 3. Concatenación"
   ]
  },
  {
   "cell_type": "code",
   "execution_count": null,
   "id": "a0b0416a",
   "metadata": {},
   "outputs": [],
   "source": [
    "concat_array = np.concatenate([array1, b])\n",
    "print(\"Concatenación:\", concat_array)"
   ]
  },
  {
   "cell_type": "markdown",
   "id": "ee78edfe",
   "metadata": {},
   "source": [
    "### 🔹 4. División de arrays"
   ]
  },
  {
   "cell_type": "code",
   "execution_count": null,
   "id": "0f471efb",
   "metadata": {},
   "outputs": [],
   "source": [
    "split_array = np.split(array1, 5)\n",
    "print(\"División:\", split_array)"
   ]
  },
  {
   "cell_type": "markdown",
   "id": "1b929165",
   "metadata": {},
   "source": [
    "## 🧪 Sección 5: Ejercicios Extra para Clase\n",
    "\n",
    "### ✏️ Ejercicio 1:\n",
    "> Crear un array de 15 elementos y reestructurarlo en una matriz de 5 filas y 3 columnas.\n",
    "\n"
   ]
  },
  {
   "cell_type": "code",
   "execution_count": null,
   "id": "50d7ba78",
   "metadata": {},
   "outputs": [
    {
     "name": "stdout",
     "output_type": "stream",
     "text": [
      "[[ 1  2  3]\n",
      " [ 4  5  6]\n",
      " [ 7  8  9]\n",
      " [10 11 12]\n",
      " [13 14 15]]\n"
     ]
    }
   ],
   "source": [
    "array = np.arange(1, 16)  \n",
    "\n",
    "matriz = array.reshape(5, 3)\n",
    "\n",
    "print(matriz)\n"
   ]
  },
  {
   "cell_type": "markdown",
   "id": "a8f52323",
   "metadata": {},
   "source": [
    "### ✏️ Ejercicio 2:\n",
    "> Crear una matriz identidad de 4x4.\n",
    "\n",
    "\n"
   ]
  },
  {
   "cell_type": "code",
   "execution_count": 6,
   "id": "695ba633",
   "metadata": {},
   "outputs": [
    {
     "name": "stdout",
     "output_type": "stream",
     "text": [
      "Matriz identidad 4x4: [[1. 0. 0. 0.]\n",
      " [0. 1. 0. 0.]\n",
      " [0. 0. 1. 0.]\n",
      " [0. 0. 0. 1.]]\n"
     ]
    }
   ],
   "source": [
    "import numpy as np\n",
    "\n",
    "Matriz = np.eye(4)\n",
    "print(\"Matriz identidad 4x4:\", Matriz)\n"
   ]
  },
  {
   "cell_type": "markdown",
   "id": "8ee9caa9",
   "metadata": {},
   "source": [
    "### ✏️ Ejercicio 3:\n",
    "> Generar un array de 10 valores linealmente espaciados entre 0 y 5.\n",
    "\n"
   ]
  },
  {
   "cell_type": "code",
   "execution_count": 7,
   "id": "904a9427",
   "metadata": {},
   "outputs": [
    {
     "name": "stdout",
     "output_type": "stream",
     "text": [
      "[0.         0.55555556 1.11111111 1.66666667 2.22222222 2.77777778\n",
      " 3.33333333 3.88888889 4.44444444 5.        ]\n"
     ]
    }
   ],
   "source": [
    "import numpy as np\n",
    "array = np.linspace (0, 5, 10)\n",
    "print(array)\n"
   ]
  },
  {
   "cell_type": "markdown",
   "id": "36af8532",
   "metadata": {},
   "source": [
    "### ✏️ Ejercicio 4:\n",
    "> Concatenar dos arrays 1D y dividir el resultado en tres partes iguales.\n",
    "\n"
   ]
  },
  {
   "cell_type": "code",
   "execution_count": 8,
   "id": "72a1c5cf",
   "metadata": {},
   "outputs": [
    {
     "name": "stdout",
     "output_type": "stream",
     "text": [
      "Array concatenado: [1 2 3 4 5 6 7 8]\n",
      "Arrays divididos:\n",
      "[1 2 3]\n",
      "[4 5 6]\n",
      "[7 8]\n"
     ]
    }
   ],
   "source": [
    "import numpy as np\n",
    "\n",
    "array1 = np.array([1, 2, 3, 4])\n",
    "array2 = np.array([5, 6, 7, 8])\n",
    "\n",
    "array_concatenado = np.concatenate((array1, array2))\n",
    "print(\"Array concatenado:\", array_concatenado)\n",
    "\n",
    "\n",
    "arrays_divididos = np.array_split(array_concatenado, 3)\n",
    "print(\"Arrays divididos:\")\n",
    "for parte in arrays_divididos:\n",
    "    print(parte)"
   ]
  },
  {
   "cell_type": "markdown",
   "id": "5d5feba8",
   "metadata": {},
   "source": [
    "### ✏️ Ejercicio 5:\n",
    "> Crear un array de 10 números aleatorios entre 0 y 1. Calcular su media y desviación estándar.\n",
    "\n"
   ]
  },
  {
   "cell_type": "code",
   "execution_count": 9,
   "id": "c7288e8f",
   "metadata": {},
   "outputs": [
    {
     "name": "stdout",
     "output_type": "stream",
     "text": [
      "Array aleatorio: [0.17618874 0.31293301 0.79498485 0.74867658 0.54618518 0.2611481\n",
      " 0.86701194 0.61204975 0.40767812 0.35708825]\n",
      "Media del array aleatorio: 0.5083944518012382\n",
      "Desviación estándar del array aleatorio: 0.22877555132579508\n"
     ]
    }
   ],
   "source": [
    "import numpy as np\n",
    "array_aleatorio= np.random.rand(10)\n",
    "print(\"Array aleatorio:\", array_aleatorio)\n",
    "\n",
    "media= np.mean(array_aleatorio)\n",
    "print(\"Media del array aleatorio:\", media)\n",
    "\n",
    "desviacio_estandar= np.std(array_aleatorio)\n",
    "print(\"Desviación estándar del array aleatorio:\", desviacio_estandar)\n",
    "\n"
   ]
  },
  {
   "cell_type": "markdown",
   "id": "f0e6f033",
   "metadata": {},
   "source": [
    "### 🔥 Ejercicio 6 (Desafío):\n",
    "> Crear una función que reciba un array y devuelva otro array normalizado entre 0 y 1 (es decir, valores entre el mínimo y máximo del array)."
   ]
  },
  {
   "cell_type": "code",
   "execution_count": 10,
   "id": "2fab837c",
   "metadata": {},
   "outputs": [
    {
     "name": "stdout",
     "output_type": "stream",
     "text": [
      "Array normalizado: [0.   0.25 0.5  0.75 1.  ]\n"
     ]
    }
   ],
   "source": [
    "import numpy as np\n",
    "\n",
    "def normalizar_array(arr):\n",
    "    min_val = np.min(arr)\n",
    "    max_val = np.max(arr)\n",
    "    return (arr - min_val) / (max_val - min_val)\n",
    "\n",
    "array = np.array([5, 15, 25, 35, 45])\n",
    "array_normalizado = normalizar_array(array)\n",
    "print(\"Array normalizado:\", array_normalizado)"
   ]
  }
 ],
 "metadata": {
  "kernelspec": {
   "display_name": "base",
   "language": "python",
   "name": "python3"
  },
  "language_info": {
   "codemirror_mode": {
    "name": "ipython",
    "version": 3
   },
   "file_extension": ".py",
   "mimetype": "text/x-python",
   "name": "python",
   "nbconvert_exporter": "python",
   "pygments_lexer": "ipython3",
   "version": "3.12.7"
  }
 },
 "nbformat": 4,
 "nbformat_minor": 5
}
