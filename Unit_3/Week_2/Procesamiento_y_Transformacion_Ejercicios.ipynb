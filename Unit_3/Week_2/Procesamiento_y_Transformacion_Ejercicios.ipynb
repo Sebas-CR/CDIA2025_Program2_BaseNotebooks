{
 "cells": [
  {
   "cell_type": "markdown",
   "id": "7e1638f1",
   "metadata": {},
   "source": [
    "# Procesamiento y Transformación de Datos en Python\n",
    "\n",
    "## Cuaderno de Ejercicios\n",
    "\n",
    "> Resuelve en conjunto con tu profesor. Escribe tu solución en la celda de código que aparece debajo de cada enunciado.\n"
   ]
  },
  {
   "cell_type": "markdown",
   "id": "0432f81d",
   "metadata": {},
   "source": [
    "## Transformación de Datos:"
   ]
  },
  {
   "cell_type": "code",
   "execution_count": null,
   "id": "c0cdb56f",
   "metadata": {
    "vscode": {
     "languageId": "plaintext"
    }
   },
   "outputs": [],
   "source": []
  },
  {
   "cell_type": "markdown",
   "id": "346328b6",
   "metadata": {},
   "source": [
    "## Conversión de Tipos de Datos en Pandas"
   ]
  },
  {
   "cell_type": "code",
   "execution_count": null,
   "id": "342f8888",
   "metadata": {
    "vscode": {
     "languageId": "plaintext"
    }
   },
   "outputs": [],
   "source": []
  },
  {
   "cell_type": "markdown",
   "id": "5ccb1d4f",
   "metadata": {},
   "source": [
    "## One Hot Encoding con Pandas"
   ]
  },
  {
   "cell_type": "code",
   "execution_count": null,
   "id": "9f57e264",
   "metadata": {
    "vscode": {
     "languageId": "plaintext"
    }
   },
   "outputs": [],
   "source": []
  },
  {
   "cell_type": "markdown",
   "id": "f778b492",
   "metadata": {},
   "source": [
    "### Escalamiento de Datos con NumPy y Pandas"
   ]
  },
  {
   "cell_type": "code",
   "execution_count": null,
   "id": "bb572199",
   "metadata": {
    "vscode": {
     "languageId": "plaintext"
    }
   },
   "outputs": [],
   "source": []
  },
  {
   "cell_type": "markdown",
   "id": "c2c2f684",
   "metadata": {},
   "source": [
    "## Ejemplo práctico: Clasificación con preprocesamiento y One Hot Encoding"
   ]
  }
 ],
 "metadata": {
  "language_info": {
   "name": "python"
  }
 },
 "nbformat": 4,
 "nbformat_minor": 5
}
