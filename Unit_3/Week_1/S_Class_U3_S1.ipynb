{
 "cells": [
  {
   "cell_type": "markdown",
   "id": "922f92ae",
   "metadata": {},
   "source": [
    "# 📊 Limpieza de Datos con Pandas: NaN y Outliers"
   ]
  },
  {
   "cell_type": "markdown",
   "id": "6bcc70d3",
   "metadata": {},
   "source": [
    "## 🐼 Ejercicios Introductorios de Pandas"
   ]
  },
  {
   "cell_type": "markdown",
   "id": "906b31ae",
   "metadata": {},
   "source": [
    "## Ejercicio 1: Crear una Serie\n",
    "\n",
    "Crea una `pd.Series` con los siguientes valores: `[10, 20, 30, 40, 50]`.\n",
    "\n",
    "- Muestra la Serie en pantalla.\n",
    "- ¿Cuál es el valor en la posición 2?"
   ]
  },
  {
   "cell_type": "code",
   "execution_count": 1,
   "id": "2bfd5540",
   "metadata": {},
   "outputs": [],
   "source": [
    "import pandas as pd\n",
    "import numpy as np\n",
    "\n"
   ]
  },
  {
   "cell_type": "markdown",
   "id": "445a76a7",
   "metadata": {},
   "source": [
    "## Ejercicio 2: Crear un DataFrame sencillo\n",
    "\n",
    "Crea un `pd.DataFrame` con la siguiente información:\n",
    "\n",
    "| Nombre | Edad | Ciudad    |\n",
    "|--------|------|-----------|\n",
    "| Ana    | 23   | Quito     |\n",
    "| Luis   | 25   | Riobamba  |\n",
    "| Sofía  | 21   | Ambato    |\n",
    "\n",
    "- Muestra el DataFrame.\n",
    "- ¿Cuál es la ciudad de Luis?"
   ]
  },
  {
   "cell_type": "code",
   "execution_count": null,
   "id": "1c9bb9f0",
   "metadata": {},
   "outputs": [],
   "source": [
    "df1[\"head\"]"
   ]
  },
  {
   "cell_type": "markdown",
   "id": "f4bc4568",
   "metadata": {},
   "source": [
    "## Ejercicio 3: Selección de columnas y filas\n",
    "\n",
    "Con el DataFrame anterior:\n",
    "\n",
    "- Selecciona la columna “Edad”.\n",
    "- Selecciona la fila correspondiente a Sofía usando `.loc` o `.iloc`."
   ]
  },
  {
   "cell_type": "code",
   "execution_count": null,
   "id": "53bd8ee1",
   "metadata": {},
   "outputs": [],
   "source": []
  },
  {
   "cell_type": "markdown",
   "id": "b2e7938c",
   "metadata": {},
   "source": [
    "## Ejercicio 4: Estadísticas básicas\n",
    "\n",
    "Utiliza el DataFrame del ejercicio anterior y:\n",
    "\n",
    "- Calcula la edad promedio.\n",
    "- Obtén la edad máxima y mínima.\n"
   ]
  },
  {
   "cell_type": "code",
   "execution_count": null,
   "id": "803ba7f3",
   "metadata": {},
   "outputs": [],
   "source": []
  },
  {
   "cell_type": "markdown",
   "id": "c5a2996f",
   "metadata": {},
   "source": [
    "## Ejercicio 5: Agregar una columna\n",
    "\n",
    "- Agrega una columna llamada “Puntaje” con los valores `[90, 85, 95]`.\n",
    "- Muestra el DataFrame resultante."
   ]
  },
  {
   "cell_type": "code",
   "execution_count": null,
   "id": "8db82fd4",
   "metadata": {},
   "outputs": [],
   "source": []
  },
  {
   "cell_type": "markdown",
   "id": "9c7be9f9",
   "metadata": {},
   "source": [
    "## Ejercicio 6: Filtrado de datos\n",
    "\n",
    "- Filtra el DataFrame para mostrar solo los registros donde la edad sea mayor o igual a 23."
   ]
  },
  {
   "cell_type": "code",
   "execution_count": null,
   "id": "f3af3047",
   "metadata": {},
   "outputs": [],
   "source": []
  },
  {
   "cell_type": "markdown",
   "id": "2e2daa9b",
   "metadata": {},
   "source": [
    "## Ejercicio 7: Guardar DataFrame a CSV\n",
    "\n",
    "- Guarda el DataFrame final (con la columna \"Puntaje\") a un archivo llamado `nuevo_data.csv`."
   ]
  },
  {
   "cell_type": "markdown",
   "id": "650c3f64",
   "metadata": {},
   "source": []
  },
  {
   "cell_type": "markdown",
   "id": "a76d065c",
   "metadata": {},
   "source": [
    "# Ejercicio Práctico Tratamiento de  Outliers "
   ]
  },
  {
   "cell_type": "markdown",
   "id": "567756c6",
   "metadata": {},
   "source": [
    "\n",
    "\n",
    "### 1. Importar librerías y dataset"
   ]
  },
  {
   "cell_type": "code",
   "execution_count": 7,
   "id": "1bf2065c",
   "metadata": {},
   "outputs": [
    {
     "data": {
      "text/html": [
       "<div>\n",
       "<style scoped>\n",
       "    .dataframe tbody tr th:only-of-type {\n",
       "        vertical-align: middle;\n",
       "    }\n",
       "\n",
       "    .dataframe tbody tr th {\n",
       "        vertical-align: top;\n",
       "    }\n",
       "\n",
       "    .dataframe thead th {\n",
       "        text-align: right;\n",
       "    }\n",
       "</style>\n",
       "<table border=\"1\" class=\"dataframe\">\n",
       "  <thead>\n",
       "    <tr style=\"text-align: right;\">\n",
       "      <th></th>\n",
       "      <th>longitude</th>\n",
       "      <th>latitude</th>\n",
       "      <th>housing_median_age</th>\n",
       "      <th>total_rooms</th>\n",
       "      <th>total_bedrooms</th>\n",
       "      <th>population</th>\n",
       "      <th>households</th>\n",
       "      <th>median_income</th>\n",
       "      <th>median_house_value</th>\n",
       "      <th>ocean_proximity</th>\n",
       "    </tr>\n",
       "  </thead>\n",
       "  <tbody>\n",
       "    <tr>\n",
       "      <th>0</th>\n",
       "      <td>-122.23</td>\n",
       "      <td>37.88</td>\n",
       "      <td>41.0</td>\n",
       "      <td>880.0</td>\n",
       "      <td>129.0</td>\n",
       "      <td>322.0</td>\n",
       "      <td>126.0</td>\n",
       "      <td>8.3252</td>\n",
       "      <td>452600.0</td>\n",
       "      <td>NEAR BAY</td>\n",
       "    </tr>\n",
       "    <tr>\n",
       "      <th>1</th>\n",
       "      <td>-122.22</td>\n",
       "      <td>37.86</td>\n",
       "      <td>21.0</td>\n",
       "      <td>7099.0</td>\n",
       "      <td>1106.0</td>\n",
       "      <td>2401.0</td>\n",
       "      <td>1138.0</td>\n",
       "      <td>8.3014</td>\n",
       "      <td>358500.0</td>\n",
       "      <td>NEAR BAY</td>\n",
       "    </tr>\n",
       "    <tr>\n",
       "      <th>2</th>\n",
       "      <td>-122.24</td>\n",
       "      <td>37.85</td>\n",
       "      <td>52.0</td>\n",
       "      <td>1467.0</td>\n",
       "      <td>190.0</td>\n",
       "      <td>496.0</td>\n",
       "      <td>177.0</td>\n",
       "      <td>7.2574</td>\n",
       "      <td>352100.0</td>\n",
       "      <td>NEAR BAY</td>\n",
       "    </tr>\n",
       "  </tbody>\n",
       "</table>\n",
       "</div>"
      ],
      "text/plain": [
       "   longitude  latitude  housing_median_age  total_rooms  total_bedrooms  \\\n",
       "0    -122.23     37.88                41.0        880.0           129.0   \n",
       "1    -122.22     37.86                21.0       7099.0          1106.0   \n",
       "2    -122.24     37.85                52.0       1467.0           190.0   \n",
       "\n",
       "   population  households  median_income  median_house_value ocean_proximity  \n",
       "0       322.0       126.0         8.3252            452600.0        NEAR BAY  \n",
       "1      2401.0      1138.0         8.3014            358500.0        NEAR BAY  \n",
       "2       496.0       177.0         7.2574            352100.0        NEAR BAY  "
      ]
     },
     "execution_count": 7,
     "metadata": {},
     "output_type": "execute_result"
    }
   ],
   "source": [
    "import pandas as pd\n",
    "import numpy as np\n",
    "import matplotlib.pyplot as plt\n",
    "\n",
    "# Puedes cambiar el archivo por cualquier dataset real\n",
    "df = pd.read_csv('https://raw.githubusercontent.com/ageron/handson-ml/master/datasets/housing/housing.csv')\n",
    "df.head(3)"
   ]
  },
  {
   "cell_type": "markdown",
   "id": "357c73bf",
   "metadata": {},
   "source": [
    "### 2. Visualización inicial de los datos"
   ]
  },
  {
   "cell_type": "code",
   "execution_count": null,
   "id": "d591f78a",
   "metadata": {},
   "outputs": [
    {
     "ename": "TypeError",
     "evalue": "'numpy.float64' object is not callable",
     "output_type": "error",
     "traceback": [
      "\u001b[1;31m---------------------------------------------------------------------------\u001b[0m",
      "\u001b[1;31mTypeError\u001b[0m                                 Traceback (most recent call last)",
      "Cell \u001b[1;32mIn[15], line 4\u001b[0m\n\u001b[0;32m      2\u001b[0m \u001b[38;5;28mprint\u001b[39m\u001b[38;5;241m=\u001b[39m k\n\u001b[0;32m      3\u001b[0m k \u001b[38;5;241m=\u001b[39m \u001b[38;5;28mint\u001b[39m(k)\n\u001b[1;32m----> 4\u001b[0m \u001b[38;5;28mprint\u001b[39m(k)\n",
      "\u001b[1;31mTypeError\u001b[0m: 'numpy.float64' object is not callable"
     ]
    }
   ],
   "source": [
    "k = np.log2(len(df))+1\n",
    "print= k\n",
    "k = int(k)\n"
   ]
  },
  {
   "cell_type": "code",
   "execution_count": 13,
   "id": "356b3636",
   "metadata": {},
   "outputs": [
    {
     "data": {
      "text/plain": [
       "<Axes: >"
      ]
     },
     "execution_count": 13,
     "metadata": {},
     "output_type": "execute_result"
    },
    {
     "data": {
      "image/png": "[encoded data removed]",
      "text/plain": [
       "<Figure size 640x480 with 1 Axes>"
      ]
     },
     "metadata": {},
     "output_type": "display_data"
    }
   ],
   "source": [
    "#visualizar los datos\n",
    "df[\"median_house_value\"].hist(bins=50)"
   ]
  },
  {
   "cell_type": "markdown",
   "id": "fc6757a3",
   "metadata": {},
   "source": [
    "### 3. Identificación y eliminación de valores NaN"
   ]
  },
  {
   "cell_type": "code",
   "execution_count": null,
   "id": "b951edc5",
   "metadata": {},
   "outputs": [],
   "source": [
    "df_clean"
   ]
  },
  {
   "cell_type": "markdown",
   "id": "a193a864",
   "metadata": {},
   "source": [
    "### 4. Detección y eliminación de outliers usando IQR"
   ]
  },
  {
   "cell_type": "code",
   "execution_count": null,
   "id": "a5e30253",
   "metadata": {},
   "outputs": [],
   "source": []
  },
  {
   "cell_type": "markdown",
   "id": "fa063b8b",
   "metadata": {},
   "source": [
    "### 5. Comparación gráfica: antes y después"
   ]
  },
  {
   "cell_type": "markdown",
   "id": "6bb9dd0c",
   "metadata": {},
   "source": []
  },
  {
   "cell_type": "markdown",
   "id": "e64354ac",
   "metadata": {},
   "source": [
    "### Ejercicio práctico\n",
    " - Repite este flujo con otra columna numérica del dataset.\n",
    "\n",
    "- Prueba el método en otro dataset (por ejemplo, iris, titanic, etc.)."
   ]
  },
  {
   "cell_type": "code",
   "execution_count": null,
   "id": "15e0249a",
   "metadata": {},
   "outputs": [],
   "source": []
  }
 ],
 "metadata": {
  "kernelspec": {
   "display_name": "base",
   "language": "python",
   "name": "python3"
  },
  "language_info": {
   "codemirror_mode": {
    "name": "ipython",
    "version": 3
   },
   "file_extension": ".py",
   "mimetype": "text/x-python",
   "name": "python",
   "nbconvert_exporter": "python",
   "pygments_lexer": "ipython3",
   "version": "3.12.7"
  }
 },
 "nbformat": 4,
 "nbformat_minor": 5
}
