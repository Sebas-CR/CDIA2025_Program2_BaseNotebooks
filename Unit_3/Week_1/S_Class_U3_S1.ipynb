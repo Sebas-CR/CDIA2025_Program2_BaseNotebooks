{
 "cells": [
  {
   "cell_type": "markdown",
   "id": "922f92ae",
   "metadata": {},
   "source": [
    "# 📊 Limpieza de Datos con Pandas: NaN y Outliers"
   ]
  },
  {
   "cell_type": "markdown",
   "id": "6bcc70d3",
   "metadata": {},
   "source": [
    "## 🐼 Ejercicios Introductorios de Pandas"
   ]
  },
  {
   "cell_type": "markdown",
   "id": "906b31ae",
   "metadata": {},
   "source": [
    "## Ejercicio 1: Crear una Serie\n",
    "\n",
    "Crea una `pd.Series` con los siguientes valores: `[10, 20, 30, 40, 50]`.\n",
    "\n",
    "- Muestra la Serie en pantalla.\n",
    "- ¿Cuál es el valor en la posición 2?"
   ]
  },
  {
   "cell_type": "code",
   "execution_count": null,
   "id": "2bfd5540",
   "metadata": {},
   "outputs": [],
   "source": []
  },
  {
   "cell_type": "markdown",
   "id": "445a76a7",
   "metadata": {},
   "source": [
    "## Ejercicio 2: Crear un DataFrame sencillo\n",
    "\n",
    "Crea un `pd.DataFrame` con la siguiente información:\n",
    "\n",
    "| Nombre | Edad | Ciudad    |\n",
    "|--------|------|-----------|\n",
    "| Ana    | 23   | Quito     |\n",
    "| Luis   | 25   | Riobamba  |\n",
    "| Sofía  | 21   | Ambato    |\n",
    "\n",
    "- Muestra el DataFrame.\n",
    "- ¿Cuál es la ciudad de Luis?"
   ]
  },
  {
   "cell_type": "code",
   "execution_count": null,
   "id": "1c9bb9f0",
   "metadata": {},
   "outputs": [],
   "source": []
  },
  {
   "cell_type": "markdown",
   "id": "f4bc4568",
   "metadata": {},
   "source": [
    "## Ejercicio 3: Selección de columnas y filas\n",
    "\n",
    "Con el DataFrame anterior:\n",
    "\n",
    "- Selecciona la columna “Edad”.\n",
    "- Selecciona la fila correspondiente a Sofía usando `.loc` o `.iloc`."
   ]
  },
  {
   "cell_type": "code",
   "execution_count": null,
   "id": "53bd8ee1",
   "metadata": {},
   "outputs": [],
   "source": []
  },
  {
   "cell_type": "markdown",
   "id": "b2e7938c",
   "metadata": {},
   "source": [
    "## Ejercicio 4: Estadísticas básicas\n",
    "\n",
    "Utiliza el DataFrame del ejercicio anterior y:\n",
    "\n",
    "- Calcula la edad promedio.\n",
    "- Obtén la edad máxima y mínima.\n"
   ]
  },
  {
   "cell_type": "code",
   "execution_count": null,
   "id": "803ba7f3",
   "metadata": {},
   "outputs": [],
   "source": []
  },
  {
   "cell_type": "markdown",
   "id": "c5a2996f",
   "metadata": {},
   "source": [
    "## Ejercicio 5: Agregar una columna\n",
    "\n",
    "- Agrega una columna llamada “Puntaje” con los valores `[90, 85, 95]`.\n",
    "- Muestra el DataFrame resultante."
   ]
  },
  {
   "cell_type": "code",
   "execution_count": null,
   "id": "8db82fd4",
   "metadata": {},
   "outputs": [],
   "source": []
  },
  {
   "cell_type": "markdown",
   "id": "9c7be9f9",
   "metadata": {},
   "source": [
    "## Ejercicio 6: Filtrado de datos\n",
    "\n",
    "- Filtra el DataFrame para mostrar solo los registros donde la edad sea mayor o igual a 23."
   ]
  },
  {
   "cell_type": "code",
   "execution_count": null,
   "id": "f3af3047",
   "metadata": {},
   "outputs": [],
   "source": []
  },
  {
   "cell_type": "markdown",
   "id": "2e2daa9b",
   "metadata": {},
   "source": [
    "## Ejercicio 7: Guardar DataFrame a CSV\n",
    "\n",
    "- Guarda el DataFrame final (con la columna \"Puntaje\") a un archivo llamado `nuevo_data.csv`."
   ]
  },
  {
   "cell_type": "markdown",
   "id": "650c3f64",
   "metadata": {},
   "source": []
  },
  {
   "cell_type": "markdown",
   "id": "a76d065c",
   "metadata": {},
   "source": [
    "# Ejercicio Práctico Tratamiento de  Outliers "
   ]
  },
  {
   "cell_type": "markdown",
   "id": "567756c6",
   "metadata": {},
   "source": [
    "\n",
    "\n",
    "### 1. Importar librerías y dataset"
   ]
  },
  {
   "cell_type": "code",
   "execution_count": null,
   "id": "1bf2065c",
   "metadata": {},
   "outputs": [],
   "source": [
    "import pandas as pd\n",
    "import numpy as np\n",
    "import matplotlib.pyplot as plt\n",
    "\n",
    "# Puedes cambiar el archivo por cualquier dataset real\n",
    "df = pd.read_csv('https://raw.githubusercontent.com/ageron/handson-ml/master/datasets/housing/housing.csv')\n",
    "df.head()"
   ]
  },
  {
   "cell_type": "markdown",
   "id": "357c73bf",
   "metadata": {},
   "source": [
    "### 2. Visualización inicial de los datos"
   ]
  },
  {
   "cell_type": "code",
   "execution_count": null,
   "id": "356b3636",
   "metadata": {},
   "outputs": [],
   "source": []
  },
  {
   "cell_type": "markdown",
   "id": "fc6757a3",
   "metadata": {},
   "source": [
    "### 3. Identificación y eliminación de valores NaN"
   ]
  },
  {
   "cell_type": "code",
   "execution_count": null,
   "id": "b951edc5",
   "metadata": {},
   "outputs": [],
   "source": []
  },
  {
   "cell_type": "markdown",
   "id": "a193a864",
   "metadata": {},
   "source": [
    "### 4. Detección y eliminación de outliers usando IQR"
   ]
  },
  {
   "cell_type": "code",
   "execution_count": null,
   "id": "a5e30253",
   "metadata": {},
   "outputs": [],
   "source": []
  },
  {
   "cell_type": "markdown",
   "id": "fa063b8b",
   "metadata": {},
   "source": [
    "### 5. Comparación gráfica: antes y después"
   ]
  },
  {
   "cell_type": "code",
   "execution_count": null,
   "id": "0ce120ad",
   "metadata": {},
   "outputs": [],
   "source": []
  },
  {
   "cell_type": "markdown",
   "id": "e64354ac",
   "metadata": {},
   "source": [
    "### Ejercicio práctico\n",
    " - Repite este flujo con otra columna numérica del dataset.\n",
    "\n",
    "- Prueba el método en otro dataset (por ejemplo, iris, titanic, etc.)."
   ]
  },
  {
   "cell_type": "code",
   "execution_count": null,
   "id": "15e0249a",
   "metadata": {},
   "outputs": [],
   "source": []
  }
 ],
 "metadata": {
  "kernelspec": {
   "display_name": "Program_2",
   "language": "python",
   "name": "python3"
  },
  "language_info": {
   "codemirror_mode": {
    "name": "ipython",
    "version": 3
   },
   "file_extension": ".py",
   "mimetype": "text/x-python",
   "name": "python",
   "nbconvert_exporter": "python",
   "pygments_lexer": "ipython3",
   "version": "3.12.9"
  }
 },
 "nbformat": 4,
 "nbformat_minor": 5
}
