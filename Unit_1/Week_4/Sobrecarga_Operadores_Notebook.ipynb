{
 "cells": [
  {
   "cell_type": "markdown",
   "id": "f10cb3c5",
   "metadata": {},
   "source": [
    "# Sobrecarga de Operadores en Python\n",
    "Este notebook acompaña la presentación sobre Sobrecarga de Operadores. Contiene ejemplos prácticos resueltos y ejercicios propuestos para reforzar los conceptos clave."
   ]
  },
  {
   "cell_type": "markdown",
   "id": "d4ea84fc",
   "metadata": {},
   "source": [
    "## ¿Qué es la Sobrecarga de Operadores?\n",
    "La sobrecarga de operadores permite personalizar cómo operan los símbolos como `+`, `-`, `==` en objetos definidos por el usuario, mediante la implementación de métodos especiales o \"mágicos\"."
   ]
  },
  {
   "cell_type": "code",
   "execution_count": null,
   "id": "740a0a5c",
   "metadata": {},
   "outputs": [],
   "source": [
    "# Ejemplo básico: suma de objetos de tipo Complejo\n",
    "class Complejo:\n",
    "    def __init__(self, real, imag):\n",
    "        self.real = real\n",
    "        self.imag = imag\n",
    "\n",
    "    def __add__(self, other):\n",
    "        return Complejo(self.real + other.real, self.imag + other.imag)\n",
    "\n",
    "    def __repr__(self):\n",
    "        return f\"{self.real} + {self.imag}i\"\n",
    "\n",
    "# Uso:\n",
    "c1 = Complejo(2, 3)\n",
    "c2 = Complejo(1, 4)\n",
    "c3 = c1 + c2\n",
    "c3"
   ]
  },
  {
   "cell_type": "markdown",
   "id": "3834a3f3",
   "metadata": {},
   "source": [
    "## Sobrecarga de Operadores Aritméticos\n",
    "Puedes redefinir operaciones como la resta (`__sub__`), multiplicación (`__mul__`) y división (`__truediv__`)."
   ]
  },
  {
   "cell_type": "code",
   "execution_count": 1,
   "id": "2ae422f7",
   "metadata": {},
   "outputs": [
    {
     "name": "stdout",
     "output_type": "stream",
     "text": [
      "Suma: 5 + 1i\n",
      "Resta: 3 + 3i\n",
      "Multiplicación: 6 + -2i\n",
      "División: 1.0 + 3.0i\n"
     ]
    }
   ],
   "source": [
    "# Extensión de la clase Complejo\n",
    "class Complejo:\n",
    "    def __init__(self, real, imag):\n",
    "        self.real = real\n",
    "        self.imag = imag\n",
    "\n",
    "    def __add__(self, other):\n",
    "        return Complejo(self.real + other.real, self.imag + other.imag)\n",
    "\n",
    "    def __sub__(self, other):\n",
    "        return Complejo(self.real - other.real, self.imag - other.imag)\n",
    "\n",
    "    def __mul__(self, other):\n",
    "        return Complejo(self.real * other.real - self.imag * other.imag,\n",
    "                        self.real * other.imag + self.imag * other.real)\n",
    "\n",
    "    def __truediv__(self, other):\n",
    "        denom = other.real**2 + other.imag**2\n",
    "        return Complejo((self.real * other.real + self.imag * other.imag) / denom,\n",
    "                        (self.imag * other.real - self.real * other.imag) / denom)\n",
    "\n",
    "    def __repr__(self):\n",
    "        return f\"{self.real} + {self.imag}i\"\n",
    "\n",
    "# Pruebas\n",
    "c1 = Complejo(4, 2)\n",
    "c2 = Complejo(1, -1)\n",
    "print(\"Suma:\", c1 + c2)\n",
    "print(\"Resta:\", c1 - c2)\n",
    "print(\"Multiplicación:\", c1 * c2)\n",
    "print(\"División:\", c1 / c2)"
   ]
  },
  {
   "cell_type": "markdown",
   "id": "fbbeeccc",
   "metadata": {},
   "source": [
    "## Ejercicio Propuesto 1\n",
    "Crea una clase `Vector2D` que sobrecargue los operadores `+`, `-`, y `==`. Implementa también el método `__repr__` para imprimir vectores de forma legible.\n",
    "\n",
    "**Extensión:** Implementa también `__abs__` para calcular la magnitud del vector."
   ]
  },
  {
   "cell_type": "code",
   "execution_count": 12,
   "id": "d89dcb46",
   "metadata": {},
   "outputs": [],
   "source": [
    "class vector2D:\n",
    "    def __init__(self, x, y):\n",
    "        self.x = x\n",
    "        self.y = y\n",
    "    def __add__(self, other):\n",
    "        return vector2D(self.x + other.x, self.y + other.y)\n",
    "    def __sub__(self, other):\n",
    "        return vector2D(self.x - other.x, self.y - other.y)\n",
    "    def __eq__(self, other):\n",
    "        return self.x == other.x and self.y == other.y\n",
    "    def __repr__(self):\n",
    "        return f\"({self.x}, {self.y})\"\n",
    "    \n",
    "    \n"
   ]
  },
  {
   "cell_type": "code",
   "execution_count": 10,
   "id": "ae67ae3d",
   "metadata": {},
   "outputs": [
    {
     "name": "stdout",
     "output_type": "stream",
     "text": [
      "Suma: (8, 9)\n"
     ]
    }
   ],
   "source": [
    "vector1 = vector2D(7, 4)\n",
    "vector2 = vector2D(1, 5)\n",
    "print(\"Suma:\", vector1 + vector2)  # Suma de vectores"
   ]
  },
  {
   "cell_type": "markdown",
   "id": "9c5b7af0",
   "metadata": {},
   "source": [
    "## Operadores de Comparación\n",
    "La clase puede implementar `__eq__`, `__lt__`, `__gt__`, etc. para soportar comparaciones entre objetos."
   ]
  },
  {
   "cell_type": "code",
   "execution_count": null,
   "id": "20a6be54",
   "metadata": {},
   "outputs": [],
   "source": [
    "# Ejemplo: Comparación entre vectores según su magnitud\n",
    "import math\n",
    "\n",
    "class Vector:\n",
    "    def __init__(self, x, y):\n",
    "        self.x = x\n",
    "        self.y = y\n",
    "\n",
    "    def __abs__(self):\n",
    "        return math.sqrt(self.x**2 + self.y**2)\n",
    "\n",
    "    def __lt__(self, other):\n",
    "        return abs(self) < abs(other)\n",
    "\n",
    "    def __eq__(self, other):\n",
    "        return self.x == other.x and self.y == other.y\n",
    "\n",
    "    def __repr__(self):\n",
    "        return f\"Vector({self.x}, {self.y})\"\n",
    "\n",
    "v1 = Vector(1, 2)\n",
    "v2 = Vector(3, 4)\n",
    "v1 < v2, v1 == v2"
   ]
  },
  {
   "cell_type": "markdown",
   "id": "625d0132",
   "metadata": {},
   "source": [
    "## Ejercicio Propuesto 2\n",
    "Agrega soporte para `>=` y `!=` en la clase `Vector`. Implementa los métodos `__ge__` y `__ne__`. ¿Qué comportamiento esperas al usarlos?"
   ]
  },
  {
   "cell_type": "code",
   "execution_count": null,
   "id": "bbd8f683",
   "metadata": {},
   "outputs": [],
   "source": [
    "\n",
    "class vector\n",
    "    def __init__(self, x, y):\n",
    "        self.x = x\n",
    "        self.y = y\n",
    "    def __abs__(self):\n",
    "        return math.sqrt(self.x**2 + self.y**2)"
   ]
  }
 ],
 "metadata": {
  "kernelspec": {
   "display_name": "base",
   "language": "python",
   "name": "python3"
  },
  "language_info": {
   "codemirror_mode": {
    "name": "ipython",
    "version": 3
   },
   "file_extension": ".py",
   "mimetype": "text/x-python",
   "name": "python",
   "nbconvert_exporter": "python",
   "pygments_lexer": "ipython3",
   "version": "3.12.7"
  }
 },
 "nbformat": 4,
 "nbformat_minor": 5
}
