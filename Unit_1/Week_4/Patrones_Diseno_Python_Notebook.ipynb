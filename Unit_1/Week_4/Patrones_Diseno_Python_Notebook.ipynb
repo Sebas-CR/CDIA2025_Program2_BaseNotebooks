{
 "cells": [
  {
   "cell_type": "markdown",
   "id": "f1a1f0a9",
   "metadata": {},
   "source": [
    "# Patrones de Diseño Comunes en Python\n",
    "Este notebook acompaña las diapositivas del tema. Contiene explicaciones, ejemplos resueltos y ejercicios propuestos basados en el capítulo 11 del libro de Steven F. Lott."
   ]
  },
  {
   "cell_type": "markdown",
   "id": "17377b8c",
   "metadata": {},
   "source": [
    "## 1. Decorator Pattern\n",
    "Permite añadir funcionalidades a objetos sin modificar su estructura. Muy útil para extender comportamientos."
   ]
  },
  {
   "cell_type": "code",
   "execution_count": null,
   "id": "9331e01f",
   "metadata": {},
   "outputs": [],
   "source": [
    "# Ejemplo de Decorator\n",
    "class Notificador:\n",
    "    def enviar(self, mensaje):\n",
    "        print(f\"Notificando: {mensaje}\")\n",
    "\n",
    "# Decorador\n",
    "class NotificadorConLog:\n",
    "    def __init__(self, notificador):\n",
    "        self.notificador = notificador\n",
    "\n",
    "    def enviar(self, mensaje):\n",
    "        print(\"[LOG] Enviando mensaje\")\n",
    "        self.notificador.enviar(mensaje)\n",
    "\n",
    "noti = NotificadorConLog(Notificador())\n",
    "noti.enviar(\"¡Hola!\")"
   ]
  },
  {
   "cell_type": "markdown",
   "id": "7005749e",
   "metadata": {},
   "source": [
    "**Ejercicio Propuesto:** Implementa un decorador para una clase `Calculadora` que imprima cuándo se ejecuta una operación."
   ]
  },
  {
   "cell_type": "markdown",
   "id": "87d1c29c",
   "metadata": {},
   "source": [
    "## 2. Observer Pattern\n",
    "Define una dependencia entre objetos, de modo que cuando uno cambia, los demás son notificados."
   ]
  },
  {
   "cell_type": "code",
   "execution_count": null,
   "id": "d6f1de91",
   "metadata": {},
   "outputs": [],
   "source": [
    "# Ejemplo simple de Observer\n",
    "class Sujeto:\n",
    "    def __init__(self):\n",
    "        self._observadores = []\n",
    "\n",
    "    def agregar(self, obs):\n",
    "        self._observadores.append(obs)\n",
    "\n",
    "    def notificar(self, valor):\n",
    "        for obs in self._observadores:\n",
    "            obs.actualizar(valor)\n",
    "\n",
    "class Observador:\n",
    "    def actualizar(self, valor):\n",
    "        print(f\"Recibido: {valor}\")\n",
    "\n",
    "s = Sujeto()\n",
    "s.agregar(Observador())\n",
    "s.notificar(\"Nuevo estado\")"
   ]
  },
  {
   "cell_type": "markdown",
   "id": "773d43d1",
   "metadata": {},
   "source": [
    "**Ejercicio Propuesto:** Crea una clase `SensorTemperatura` que notifique a múltiples pantallas de visualización."
   ]
  },
  {
   "cell_type": "markdown",
   "id": "cb9ce4d8",
   "metadata": {},
   "source": [
    "## 3. Strategy Pattern\n",
    "Permite definir una familia de algoritmos, encapsularlos e intercambiarlos dinámicamente."
   ]
  },
  {
   "cell_type": "code",
   "execution_count": null,
   "id": "840f9ac6",
   "metadata": {},
   "outputs": [],
   "source": [
    "# Estrategias de descuento\n",
    "class DescuentoFijo:\n",
    "    def aplicar(self, total):\n",
    "        return total - 5\n",
    "\n",
    "class DescuentoPorcentaje:\n",
    "    def aplicar(self, total):\n",
    "        return total * 0.9\n",
    "\n",
    "class Carrito:\n",
    "    def __init__(self, estrategia):\n",
    "        self.estrategia = estrategia\n",
    "\n",
    "    def total_con_descuento(self, total):\n",
    "        return self.estrategia.aplicar(total)\n",
    "\n",
    "carro = Carrito(DescuentoPorcentaje())\n",
    "print(carro.total_con_descuento(100))"
   ]
  },
  {
   "cell_type": "markdown",
   "id": "1fac48a8",
   "metadata": {},
   "source": [
    "**Ejercicio Propuesto:** Implementa una clase `Juego` que permita cambiar dinámicamente su nivel de dificultad (fácil, medio, difícil)."
   ]
  },
  {
   "cell_type": "markdown",
   "id": "66e7f0ee",
   "metadata": {},
   "source": [
    "## 4. Command Pattern\n",
    "Encapsula una solicitud como un objeto, permitiendo parametrizar acciones."
   ]
  },
  {
   "cell_type": "code",
   "execution_count": null,
   "id": "239fb3dd",
   "metadata": {},
   "outputs": [],
   "source": [
    "# Ejemplo básico Command\n",
    "class Luz:\n",
    "    def encender(self): print(\"Luz encendida\")\n",
    "    def apagar(self): print(\"Luz apagada\")\n",
    "\n",
    "class EncenderLuz:\n",
    "    def __init__(self, luz): self.luz = luz\n",
    "    def ejecutar(self): self.luz.encender()\n",
    "\n",
    "interruptor = EncenderLuz(Luz())\n",
    "interruptor.ejecutar()"
   ]
  },
  {
   "cell_type": "markdown",
   "id": "6e5b5d18",
   "metadata": {},
   "source": [
    "**Ejercicio Propuesto:** Diseña un control remoto con múltiples comandos: TV, luces y puerta."
   ]
  },
  {
   "cell_type": "markdown",
   "id": "64f950fa",
   "metadata": {},
   "source": [
    "## 5. State Pattern\n",
    "Permite a un objeto alterar su comportamiento cuando su estado interno cambia."
   ]
  },
  {
   "cell_type": "code",
   "execution_count": null,
   "id": "d1dd8e8e",
   "metadata": {},
   "outputs": [],
   "source": [
    "# Ejemplo de Estado\n",
    "class Estado:\n",
    "    def manejar(self): pass\n",
    "\n",
    "class EstadoInicio(Estado):\n",
    "    def manejar(self): print(\"Estado: Inicio\")\n",
    "\n",
    "class EstadoFinal(Estado):\n",
    "    def manejar(self): print(\"Estado: Final\")\n",
    "\n",
    "class Contexto:\n",
    "    def __init__(self, estado): self.estado = estado\n",
    "    def ejecutar(self): self.estado.manejar()\n",
    "\n",
    "ctx = Contexto(EstadoInicio())\n",
    "ctx.ejecutar()\n",
    "ctx.estado = EstadoFinal()\n",
    "ctx.ejecutar()"
   ]
  },
  {
   "cell_type": "markdown",
   "id": "d510ccff",
   "metadata": {},
   "source": [
    "**Ejercicio Propuesto:** Implementa una máquina de estados para el ciclo de vida de una orden (recibida, procesando, enviada, entregada)."
   ]
  },
  {
   "cell_type": "markdown",
   "id": "9051956b",
   "metadata": {},
   "source": [
    "## 6. Singleton Pattern\n",
    "Asegura que una clase tenga solo una instancia."
   ]
  },
  {
   "cell_type": "code",
   "execution_count": null,
   "id": "46b7ecda",
   "metadata": {},
   "outputs": [],
   "source": [
    "# Singleton con clase base\n",
    "class Singleton:\n",
    "    _instancia = None\n",
    "\n",
    "    def __new__(cls):\n",
    "        if cls._instancia is None:\n",
    "            cls._instancia = super().__new__(cls)\n",
    "        return cls._instancia\n",
    "\n",
    "class Logger(Singleton):\n",
    "    def log(self, msg):\n",
    "        print(f\"[LOG]: {msg}\")\n",
    "\n",
    "log1 = Logger()\n",
    "log2 = Logger()\n",
    "print(log1 is log2)  # True"
   ]
  },
  {
   "cell_type": "markdown",
   "id": "421944f6",
   "metadata": {},
   "source": [
    "**Ejercicio Propuesto:** Implementa una clase `ConfiguracionGlobal` que siempre retorne la misma instancia con métodos para guardar/leer valores."
   ]
  },
  {
   "cell_type": "markdown",
   "id": "85fd0eea",
   "metadata": {},
   "source": [
    "## Conclusión\n",
    "Los patrones de diseño permiten escribir código más limpio, reutilizable y adaptable. En Python se pueden implementar de manera sencilla usando clases y composición."
   ]
  }
 ],
 "metadata": {
  "kernelspec": {
   "display_name": "base",
   "language": "python",
   "name": "python3"
  },
  "language_info": {
   "name": "python",
   "version": "3.12.7"
  }
 },
 "nbformat": 4,
 "nbformat_minor": 5
}
